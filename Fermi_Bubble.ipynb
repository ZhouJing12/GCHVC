{
 "cells": [
  {
   "cell_type": "code",
   "execution_count": 7,
   "id": "0b4bc269-601a-46b1-8b40-e8cbb091f4be",
   "metadata": {},
   "outputs": [],
   "source": [
    "import numpy as np\n"
   ]
  },
  {
   "cell_type": "code",
   "execution_count": 10,
   "id": "7289ccb7-f6a6-4ca0-b692-af24b2812f9f",
   "metadata": {},
   "outputs": [],
   "source": [
    "data=np.loadtxt('pdf_imgs/region_rec.txt')\n",
    "rela=data[:2]\n",
    "north=data[2:17]\n",
    "south=data[17:]"
   ]
  },
  {
   "cell_type": "code",
   "execution_count": 23,
   "id": "6c62d228-4b51-4002-a499-70699ea81d5a",
   "metadata": {},
   "outputs": [],
   "source": [
    "north_gal,south_gal=np.zeros_like(north),np.zeros_like(south)\n",
    "north_gal[:,0]=-(north[:,0]-rela[0,0])/(rela[0,1]-rela[0,0])*100+50\n",
    "south_gal[:,0]=-(south[:,0]-rela[0,0])/(rela[0,1]-rela[0,0])*100+50\n",
    "north_gal[:,1]=-(north[:,1]-rela[1,0])/(rela[1,1]-rela[1,0])*100+50\n",
    "south_gal[:,1]=-(south[:,1]-rela[1,0])/(rela[1,1]-rela[1,0])*100+50"
   ]
  },
  {
   "cell_type": "code",
   "execution_count": 27,
   "id": "d113526f-355f-4649-93c0-c2353d023ea5",
   "metadata": {},
   "outputs": [],
   "source": [
    "polystr=''\n",
    "for i in range(len(north_gal)):\n",
    "    polystr+='[%fdeg,%fdeg],'%(north_gal[i,0],north_gal[i,1])"
   ]
  },
  {
   "cell_type": "code",
   "execution_count": 29,
   "id": "10a86d00-a4d3-49bb-a8a2-d26eccf0ad2e",
   "metadata": {},
   "outputs": [],
   "source": [
    "polystr=''\n",
    "for i in range(len(south_gal)):\n",
    "    polystr+='[%fdeg,%fdeg],'%(south_gal[i,0],south_gal[i,1])"
   ]
  },
  {
   "cell_type": "code",
   "execution_count": 30,
   "id": "b239eee7-97a3-4c0d-8f35-5db36fa3db08",
   "metadata": {},
   "outputs": [
    {
     "data": {
      "text/plain": [
       "'[5.705996deg,-6.451613deg],[11.508704deg,-13.082437deg],[16.537718deg,-27.060932deg],[14.990329deg,-48.028674deg],[9.961315deg,-52.688172deg],[-6.673114deg,-55.555556deg],[-24.468085deg,-43.906810deg],[-25.628627deg,-30.107527deg],[-22.533849deg,-22.580645deg],[-13.829787deg,-12.365591deg],[5.705996deg,-5.734767deg],'"
      ]
     },
     "execution_count": 30,
     "metadata": {},
     "output_type": "execute_result"
    }
   ],
   "source": [
    "polystr"
   ]
  },
  {
   "cell_type": "code",
   "execution_count": null,
   "id": "bdc2a73b-f141-4ea8-8bf1-89b0f6165aab",
   "metadata": {},
   "outputs": [],
   "source": []
  }
 ],
 "metadata": {
  "kernelspec": {
   "display_name": "Python 3 (ipykernel)",
   "language": "python",
   "name": "python3"
  },
  "language_info": {
   "codemirror_mode": {
    "name": "ipython",
    "version": 3
   },
   "file_extension": ".py",
   "mimetype": "text/x-python",
   "name": "python",
   "nbconvert_exporter": "python",
   "pygments_lexer": "ipython3",
   "version": "3.10.13"
  }
 },
 "nbformat": 4,
 "nbformat_minor": 5
}
