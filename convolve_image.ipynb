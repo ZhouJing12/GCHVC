{
 "cells": [
  {
   "cell_type": "code",
   "execution_count": 25,
   "id": "f75c42c2-d84a-4f2a-bd2e-36dca436a21f",
   "metadata": {},
   "outputs": [
    {
     "name": "stdout",
     "output_type": "stream",
     "text": [
      "[80 24 24] [161  49  49]\n"
     ]
    }
   ],
   "source": [
    "import numpy as np\n",
    "from astropy.convolution.kernels import CustomKernel\n",
    "def Gaussian3DKernel(x_stddev,y_stddev=None,z_stddev=None):\n",
    "    if y_stddev is None:\n",
    "        y_stddev = x_stddev\n",
    "    if z_stddev is None:\n",
    "        z_stddev = x_stddev\n",
    "    size=8*np.array([x_stddev,y_stddev,z_stddev])\n",
    "    shape=2*size+1\n",
    "    array=np.zeros([shape[0],shape[1],shape[2]])\n",
    "    print(size,shape)\n",
    "    for i in range(shape[0]):\n",
    "        for j in range(shape[1]):\n",
    "            for k in range(shape[2]):\n",
    "                array[i,j,k]=1./(2*np.pi * x_stddev * y_stddev * z_stddev)**1.5 * np.exp(-(((i-size[0])/x_stddev)**2 + ((j-size[1])/y_stddev)**2 + ((k-size[2])/z_stddev)**2)/2)\n",
    "    kernel=CustomKernel(array)\n",
    "    return kernel\n",
    "kernel3D=Gaussian3DKernel(10,3,3)"
   ]
  },
  {
   "cell_type": "code",
   "execution_count": 26,
   "id": "5db2e527-3f5f-45a1-960d-3ea099a9f638",
   "metadata": {},
   "outputs": [],
   "source": [
    "from astropy.io import fits\n",
    "import matplotlib.pyplot as plt\n",
    "hdul=fits.open('GCHVC_imcontsub_flaged.fits')\n",
    "from astropy.convolution import convolve"
   ]
  },
  {
   "cell_type": "code",
   "execution_count": null,
   "id": "66f4a2d7-3228-4979-ad45-687677cd4a57",
   "metadata": {},
   "outputs": [
    {
     "name": "stdout",
     "output_type": "stream",
     "text": [
      "[40 24 24] [81 49 49]\n"
     ]
    }
   ],
   "source": [
    "cube=convolve(hdul[0].data,Gaussian3DKernel(5,3,3))"
   ]
  },
  {
   "cell_type": "code",
   "execution_count": 29,
   "id": "86901197-f608-4ee5-b4cf-cdcb330c0058",
   "metadata": {},
   "outputs": [],
   "source": [
    "hdul[0].data=cube\n",
    "hdul.writeto('GCHVC_imcontsub_convolved_hisnr.fits',overwrite=True)"
   ]
  },
  {
   "cell_type": "code",
   "execution_count": 8,
   "id": "c71dcf43-ab80-4389-aa95-f9910bc9bf7d",
   "metadata": {},
   "outputs": [],
   "source": [
    "import pandas as pd\n",
    "data_target=pd.read_csv('targets_select.csv',delimiter=',',dtype=str)"
   ]
  },
  {
   "cell_type": "code",
   "execution_count": 19,
   "id": "c22b5f86-a5fa-4c3d-ba98-d41461b796e9",
   "metadata": {},
   "outputs": [
    {
     "name": "stdout",
     "output_type": "stream",
     "text": [
      "17:38:16.6 -13:17:50\n",
      "17:11:42.9 -10:43:01\n",
      "17:43:12.8 -13:21:15\n",
      "17:12:02.2 -10:57:00\n",
      "17:09:55.7 -12:10:17\n",
      "17:04:55.5 -13:18:24\n",
      "17:10:12.5 -13:37:40\n",
      "17:27:45.1 -12:20:09\n",
      "17:37:27.2 -11:52:51\n",
      "16:52:37.3 -11:07:33\n",
      "17:07:29.9 -13:15:34\n",
      "17:05:02.7 -12:29:45\n",
      "16:53:47.5 -11:02:55\n",
      "17:12:43.0 -11:48:19\n",
      "17:50:14.4 -12:04:27\n",
      "17:01:53.0 -11:00:48\n",
      "17:23:17.1 -12:23:11\n",
      "17:49:35.4 -11:00:09\n",
      "17:15:18.0 -12:46:48\n",
      "17:15:37.9 -12:13:47\n",
      "17:11:52.9 -12:19:30\n",
      "17:14:57.6 -12:29:25\n",
      "17:12:13.0 -12:10:46\n",
      "17:23:00.8 -12:04:22\n",
      "16:59:31.9 -12:45:15\n",
      "17:06:08.1 -11:30:57\n",
      "17:11:47.8 -13:16:23\n",
      "17:13:32.9 -13:00:35\n",
      "17:24:54.5 -11:25:06\n",
      "17:09:10.2 -13:29:30\n",
      "17:11:34.0 -13:40:31\n",
      "16:58:08.4 -12:16:49\n",
      "17:36:51.9 -12:32:16\n",
      "17:10:29.6 -11:05:42\n"
     ]
    }
   ],
   "source": [
    "from astropy.coordinates import SkyCoord\n",
    "from astropy import units as u\n",
    "for idx in data_target.index:\n",
    "    coords=SkyCoord(float(data_target['RA_d'][idx]),float(data_target['DEC_d'][idx]),frame='icrs',unit=u.deg)\n",
    "    print(data_target['RA'][idx],data_target['DEC'][idx])"
   ]
  },
  {
   "cell_type": "code",
   "execution_count": null,
   "id": "d0886109-5e14-4bd5-b56d-372ef5ed304b",
   "metadata": {},
   "outputs": [],
   "source": []
  }
 ],
 "metadata": {
  "kernelspec": {
   "display_name": "Python 3 (ipykernel)",
   "language": "python",
   "name": "python3"
  },
  "language_info": {
   "codemirror_mode": {
    "name": "ipython",
    "version": 3
   },
   "file_extension": ".py",
   "mimetype": "text/x-python",
   "name": "python",
   "nbconvert_exporter": "python",
   "pygments_lexer": "ipython3",
   "version": "3.10.13"
  }
 },
 "nbformat": 4,
 "nbformat_minor": 5
}
